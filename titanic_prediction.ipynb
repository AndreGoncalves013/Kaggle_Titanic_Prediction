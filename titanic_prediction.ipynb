{
 "cells": [
  {
   "cell_type": "markdown",
   "metadata": {},
   "source": [
    "# Kaggle Titanic Prediction"
   ]
  },
  {
   "cell_type": "markdown",
   "metadata": {},
   "source": [
    "## Importing libraries and reading data"
   ]
  },
  {
   "cell_type": "code",
   "execution_count": 40,
   "metadata": {},
   "outputs": [],
   "source": [
    "import numpy as np\n",
    "import pandas as pd\n",
    "import seaborn as sns\n",
    "import matplotlib.pyplot as plt\n",
    "import plotly.express as px\n",
    "from statistics import mode\n",
    "from sklearn.model_selection import train_test_split\n",
    "from sklearn.preprocessing import OneHotEncoder, StandardScaler\n",
    "from sklearn.tree import DecisionTreeClassifier\n",
    "from sklearn.svm import SVC\n",
    "from sklearn.model_selection import GridSearchCV\n",
    "from sklearn.ensemble import RandomForestClassifier\n",
    "from sklearn.metrics import balanced_accuracy_score, confusion_matrix, make_scorer"
   ]
  },
  {
   "cell_type": "code",
   "execution_count": 41,
   "metadata": {},
   "outputs": [],
   "source": [
    "train_set = pd.read_csv('train.csv')\n",
    "test_set = pd.read_csv('test.csv')"
   ]
  },
  {
   "cell_type": "code",
   "execution_count": 42,
   "metadata": {},
   "outputs": [],
   "source": [
    "train_set['Pclass'] = train_set['Pclass'].astype(str)\n",
    "test_set['Pclass'] = test_set['Pclass'].astype(str)"
   ]
  },
  {
   "cell_type": "code",
   "execution_count": 43,
   "metadata": {},
   "outputs": [
    {
     "data": {
      "text/html": [
       "<div>\n",
       "<style scoped>\n",
       "    .dataframe tbody tr th:only-of-type {\n",
       "        vertical-align: middle;\n",
       "    }\n",
       "\n",
       "    .dataframe tbody tr th {\n",
       "        vertical-align: top;\n",
       "    }\n",
       "\n",
       "    .dataframe thead th {\n",
       "        text-align: right;\n",
       "    }\n",
       "</style>\n",
       "<table border=\"1\" class=\"dataframe\">\n",
       "  <thead>\n",
       "    <tr style=\"text-align: right;\">\n",
       "      <th></th>\n",
       "      <th>PassengerId</th>\n",
       "      <th>Survived</th>\n",
       "      <th>Pclass</th>\n",
       "      <th>Name</th>\n",
       "      <th>Sex</th>\n",
       "      <th>Age</th>\n",
       "      <th>SibSp</th>\n",
       "      <th>Parch</th>\n",
       "      <th>Ticket</th>\n",
       "      <th>Fare</th>\n",
       "      <th>Cabin</th>\n",
       "      <th>Embarked</th>\n",
       "    </tr>\n",
       "  </thead>\n",
       "  <tbody>\n",
       "    <tr>\n",
       "      <th>0</th>\n",
       "      <td>1</td>\n",
       "      <td>0</td>\n",
       "      <td>3</td>\n",
       "      <td>Braund, Mr. Owen Harris</td>\n",
       "      <td>male</td>\n",
       "      <td>22.0</td>\n",
       "      <td>1</td>\n",
       "      <td>0</td>\n",
       "      <td>A/5 21171</td>\n",
       "      <td>7.2500</td>\n",
       "      <td>NaN</td>\n",
       "      <td>S</td>\n",
       "    </tr>\n",
       "    <tr>\n",
       "      <th>1</th>\n",
       "      <td>2</td>\n",
       "      <td>1</td>\n",
       "      <td>1</td>\n",
       "      <td>Cumings, Mrs. John Bradley (Florence Briggs Th...</td>\n",
       "      <td>female</td>\n",
       "      <td>38.0</td>\n",
       "      <td>1</td>\n",
       "      <td>0</td>\n",
       "      <td>PC 17599</td>\n",
       "      <td>71.2833</td>\n",
       "      <td>C85</td>\n",
       "      <td>C</td>\n",
       "    </tr>\n",
       "    <tr>\n",
       "      <th>2</th>\n",
       "      <td>3</td>\n",
       "      <td>1</td>\n",
       "      <td>3</td>\n",
       "      <td>Heikkinen, Miss. Laina</td>\n",
       "      <td>female</td>\n",
       "      <td>26.0</td>\n",
       "      <td>0</td>\n",
       "      <td>0</td>\n",
       "      <td>STON/O2. 3101282</td>\n",
       "      <td>7.9250</td>\n",
       "      <td>NaN</td>\n",
       "      <td>S</td>\n",
       "    </tr>\n",
       "    <tr>\n",
       "      <th>3</th>\n",
       "      <td>4</td>\n",
       "      <td>1</td>\n",
       "      <td>1</td>\n",
       "      <td>Futrelle, Mrs. Jacques Heath (Lily May Peel)</td>\n",
       "      <td>female</td>\n",
       "      <td>35.0</td>\n",
       "      <td>1</td>\n",
       "      <td>0</td>\n",
       "      <td>113803</td>\n",
       "      <td>53.1000</td>\n",
       "      <td>C123</td>\n",
       "      <td>S</td>\n",
       "    </tr>\n",
       "    <tr>\n",
       "      <th>4</th>\n",
       "      <td>5</td>\n",
       "      <td>0</td>\n",
       "      <td>3</td>\n",
       "      <td>Allen, Mr. William Henry</td>\n",
       "      <td>male</td>\n",
       "      <td>35.0</td>\n",
       "      <td>0</td>\n",
       "      <td>0</td>\n",
       "      <td>373450</td>\n",
       "      <td>8.0500</td>\n",
       "      <td>NaN</td>\n",
       "      <td>S</td>\n",
       "    </tr>\n",
       "  </tbody>\n",
       "</table>\n",
       "</div>"
      ],
      "text/plain": [
       "   PassengerId  Survived Pclass  \\\n",
       "0            1         0      3   \n",
       "1            2         1      1   \n",
       "2            3         1      3   \n",
       "3            4         1      1   \n",
       "4            5         0      3   \n",
       "\n",
       "                                                Name     Sex   Age  SibSp  \\\n",
       "0                            Braund, Mr. Owen Harris    male  22.0      1   \n",
       "1  Cumings, Mrs. John Bradley (Florence Briggs Th...  female  38.0      1   \n",
       "2                             Heikkinen, Miss. Laina  female  26.0      0   \n",
       "3       Futrelle, Mrs. Jacques Heath (Lily May Peel)  female  35.0      1   \n",
       "4                           Allen, Mr. William Henry    male  35.0      0   \n",
       "\n",
       "   Parch            Ticket     Fare Cabin Embarked  \n",
       "0      0         A/5 21171   7.2500   NaN        S  \n",
       "1      0          PC 17599  71.2833   C85        C  \n",
       "2      0  STON/O2. 3101282   7.9250   NaN        S  \n",
       "3      0            113803  53.1000  C123        S  \n",
       "4      0            373450   8.0500   NaN        S  "
      ]
     },
     "execution_count": 43,
     "metadata": {},
     "output_type": "execute_result"
    }
   ],
   "source": [
    "train_set.head()"
   ]
  },
  {
   "cell_type": "markdown",
   "metadata": {},
   "source": [
    "## EDA"
   ]
  },
  {
   "cell_type": "markdown",
   "metadata": {},
   "source": [
    "### Numerical features"
   ]
  },
  {
   "cell_type": "code",
   "execution_count": 44,
   "metadata": {},
   "outputs": [],
   "source": [
    "def plot_histogram(df, feature):\n",
    "    sns.histplot(data=df, x=feature, hue=\"Survived\", multiple=\"stack\")\n",
    "    plt.show()"
   ]
  },
  {
   "cell_type": "code",
   "execution_count": 45,
   "metadata": {},
   "outputs": [
    {
     "data": {
      "text/plain": [
       "Index(['Age', 'SibSp', 'Parch', 'Fare'], dtype='object')"
      ]
     },
     "execution_count": 45,
     "metadata": {},
     "output_type": "execute_result"
    }
   ],
   "source": [
    "numerical_cols = train_set.select_dtypes(exclude= 'object').columns[2:]\n",
    "numerical_cols"
   ]
  },
  {
   "cell_type": "code",
   "execution_count": 46,
   "metadata": {},
   "outputs": [
    {
     "data": {
      "image/png": "[encoded data removed]",
      "text/plain": [
       "<Figure size 432x288 with 1 Axes>"
      ]
     },
     "metadata": {
      "needs_background": "light"
     },
     "output_type": "display_data"
    },
    {
     "data": {
      "image/png": "[encoded data removed]",
      "text/plain": [
       "<Figure size 432x288 with 1 Axes>"
      ]
     },
     "metadata": {
      "needs_background": "light"
     },
     "output_type": "display_data"
    },
    {
     "data": {
      "image/png": "[encoded data removed]",
      "text/plain": [
       "<Figure size 432x288 with 1 Axes>"
      ]
     },
     "metadata": {
      "needs_background": "light"
     },
     "output_type": "display_data"
    },
    {
     "data": {
      "image/png": "[encoded data removed]",
      "text/plain": [
       "<Figure size 432x288 with 1 Axes>"
      ]
     },
     "metadata": {
      "needs_background": "light"
     },
     "output_type": "display_data"
    }
   ],
   "source": [
    "for col in numerical_cols:\n",
    "    plot_histogram(train_set, col)"
   ]
  },
  {
   "cell_type": "markdown",
   "metadata": {},
   "source": [
    "### Categorical features"
   ]
  },
  {
   "cell_type": "code",
   "execution_count": 47,
   "metadata": {},
   "outputs": [],
   "source": [
    "train_set['Has_Cabin_Letter'] = (~train_set.Cabin.isnull()).astype(object)\n",
    "test_set['Has_Cabin_Letter'] = (~train_set.Cabin.isnull()).astype(object)"
   ]
  },
  {
   "cell_type": "code",
   "execution_count": 48,
   "metadata": {},
   "outputs": [
    {
     "data": {
      "text/plain": [
       "['Pclass', 'Sex', 'Embarked', 'Has_Cabin_Letter']"
      ]
     },
     "execution_count": 48,
     "metadata": {},
     "output_type": "execute_result"
    }
   ],
   "source": [
    "categorical_cols = train_set.select_dtypes(include= 'object').columns.to_list()\n",
    "categorical_cols.remove('Name')\n",
    "categorical_cols.remove('Ticket')\n",
    "categorical_cols.remove('Cabin')\n",
    "categorical_cols"
   ]
  },
  {
   "cell_type": "code",
   "execution_count": 49,
   "metadata": {},
   "outputs": [],
   "source": [
    "def plot_bar_chart(df, feature):\n",
    "    df_aux = df.copy()\n",
    "    df_aux[feature] = df_aux[feature].fillna('Null')\n",
    "    sns.catplot(y=feature, hue=\"Survived\", kind=\"count\", data=df_aux)\n",
    "    plt.show()"
   ]
  },
  {
   "cell_type": "code",
   "execution_count": 50,
   "metadata": {},
   "outputs": [
    {
     "data": {
      "image/png": "[encoded data removed]",
      "text/plain": [
       "<Figure size 411.875x360 with 1 Axes>"
      ]
     },
     "metadata": {
      "needs_background": "light"
     },
     "output_type": "display_data"
    }
   ],
   "source": [
    "for col in categorical_cols:\n",
    "    plot_bar_chart(train_set, col)"
   ]
  },
  {
   "cell_type": "code",
   "execution_count": null,
   "metadata": {},
   "outputs": [],
   "source": [
    "train_set['Has_Cabin_Letter'] = (~train_set.Cabin.isnull())*1\n",
    "test_set['Has_Cabin_Letter'] = (~train_set.Cabin.isnull())*1"
   ]
  },
  {
   "cell_type": "code",
   "execution_count": null,
   "metadata": {},
   "outputs": [],
   "source": [
    "features = ['Pclass', 'Sex', 'Age', 'Fare', 'Embarked', 'Has_Cabin_Letter']\n",
    "X = train_set[features]\n",
    "y = train_set['Survived']\n",
    "\n",
    "X_test = test_set[features]"
   ]
  },
  {
   "cell_type": "markdown",
   "metadata": {},
   "source": [
    "## Data Prep"
   ]
  },
  {
   "cell_type": "markdown",
   "metadata": {},
   "source": [
    "Spliting data in training and validation sets"
   ]
  },
  {
   "cell_type": "code",
   "execution_count": null,
   "metadata": {},
   "outputs": [],
   "source": [
    "X_train, X_val, y_train, y_val = train_test_split(X, y, test_size= 0.2, random_state=42, stratify = y)"
   ]
  },
  {
   "cell_type": "code",
   "execution_count": null,
   "metadata": {},
   "outputs": [
    {
     "data": {
      "text/plain": [
       "Pclass              0.000000\n",
       "Sex                 0.000000\n",
       "Age                 0.192416\n",
       "Fare                0.000000\n",
       "Embarked            0.002809\n",
       "Has_Cabin_Letter    0.000000\n",
       "dtype: float64"
      ]
     },
     "execution_count": 15,
     "metadata": {},
     "output_type": "execute_result"
    }
   ],
   "source": [
    "X_train.isnull().mean()"
   ]
  },
  {
   "cell_type": "markdown",
   "metadata": {},
   "source": [
    "Handling missing values"
   ]
  },
  {
   "cell_type": "code",
   "execution_count": null,
   "metadata": {},
   "outputs": [],
   "source": [
    "missing_values_dict = {\n",
    "    'age_median': X_train.Age.median(),\n",
    "    'embarked_mode' : mode(train_set['Embarked'])\n",
    "}"
   ]
  },
  {
   "cell_type": "code",
   "execution_count": null,
   "metadata": {},
   "outputs": [],
   "source": [
    "def fill_missing_data(df, missing_values_dict):\n",
    "\n",
    "    new_df = df.copy()\n",
    "\n",
    "    new_df['Age'] = new_df['Age'].fillna(missing_values_dict['age_median'])\n",
    "    new_df['Embarked'] = new_df['Embarked'].fillna(missing_values_dict['embarked_mode'])\n",
    "\n",
    "    return new_df"
   ]
  },
  {
   "cell_type": "code",
   "execution_count": null,
   "metadata": {},
   "outputs": [],
   "source": [
    "X_train = fill_missing_data(X_train, missing_values_dict)\n",
    "X_val = fill_missing_data(X_val, missing_values_dict)\n",
    "X_test = fill_missing_data(X_test, missing_values_dict)"
   ]
  },
  {
   "cell_type": "markdown",
   "metadata": {},
   "source": [
    "Handling the categorical data"
   ]
  },
  {
   "cell_type": "code",
   "execution_count": null,
   "metadata": {},
   "outputs": [],
   "source": [
    "def apply_one_hot_encoding(df, feature, encoder):\n",
    "\n",
    "    one_hot_enc_df = encoder.transform(df[feature].values.reshape(-1,1)).toarray()\n",
    "    enc_df = pd.DataFrame(one_hot_enc_df, columns = encoder.categories_[0][1:].tolist())\n",
    "    \n",
    "    new_cols_names = {col: feature + '_' + col for col in enc_df.columns}\n",
    "    enc_df = enc_df.rename(columns = new_cols_names)\n",
    "\n",
    "    final_df = pd.concat([df.reset_index(), enc_df], axis = 1).drop(columns = ['index', feature])\n",
    "    return final_df"
   ]
  },
  {
   "cell_type": "code",
   "execution_count": null,
   "metadata": {},
   "outputs": [],
   "source": [
    "def feature_one_hot_encoding(X_train, X_val, X_test, feature):\n",
    "    \n",
    "    encoder = OneHotEncoder(drop='first').fit(X_train[feature].values.reshape(-1,1))\n",
    "\n",
    "    X_train = apply_one_hot_encoding(X_train, feature, encoder)\n",
    "    X_val = apply_one_hot_encoding(X_val, feature, encoder)\n",
    "    X_test = apply_one_hot_encoding(X_test, feature, encoder)\n",
    "\n",
    "    return X_train, X_val, X_test"
   ]
  },
  {
   "cell_type": "code",
   "execution_count": null,
   "metadata": {},
   "outputs": [],
   "source": [
    "X_train, X_val, X_test = feature_one_hot_encoding(X_train, X_val, X_test, 'Embarked')\n",
    "X_train, X_val, X_test = feature_one_hot_encoding(X_train, X_val, X_test, 'Sex')\n",
    "X_train, X_val, X_test = feature_one_hot_encoding(X_train, X_val, X_test, 'Pclass')"
   ]
  },
  {
   "cell_type": "code",
   "execution_count": null,
   "metadata": {},
   "outputs": [
    {
     "data": {
      "text/html": [
       "<div>\n",
       "<style scoped>\n",
       "    .dataframe tbody tr th:only-of-type {\n",
       "        vertical-align: middle;\n",
       "    }\n",
       "\n",
       "    .dataframe tbody tr th {\n",
       "        vertical-align: top;\n",
       "    }\n",
       "\n",
       "    .dataframe thead th {\n",
       "        text-align: right;\n",
       "    }\n",
       "</style>\n",
       "<table border=\"1\" class=\"dataframe\">\n",
       "  <thead>\n",
       "    <tr style=\"text-align: right;\">\n",
       "      <th></th>\n",
       "      <th>Age</th>\n",
       "      <th>Fare</th>\n",
       "      <th>Has_Cabin_Letter</th>\n",
       "      <th>Embarked_Q</th>\n",
       "      <th>Embarked_S</th>\n",
       "      <th>Sex_male</th>\n",
       "      <th>Pclass_2</th>\n",
       "      <th>Pclass_3</th>\n",
       "    </tr>\n",
       "  </thead>\n",
       "  <tbody>\n",
       "    <tr>\n",
       "      <th>0</th>\n",
       "      <td>28.5</td>\n",
       "      <td>56.4958</td>\n",
       "      <td>0</td>\n",
       "      <td>0.0</td>\n",
       "      <td>1.0</td>\n",
       "      <td>1.0</td>\n",
       "      <td>0.0</td>\n",
       "      <td>1.0</td>\n",
       "    </tr>\n",
       "    <tr>\n",
       "      <th>1</th>\n",
       "      <td>28.5</td>\n",
       "      <td>0.0000</td>\n",
       "      <td>0</td>\n",
       "      <td>0.0</td>\n",
       "      <td>1.0</td>\n",
       "      <td>1.0</td>\n",
       "      <td>1.0</td>\n",
       "      <td>0.0</td>\n",
       "    </tr>\n",
       "    <tr>\n",
       "      <th>2</th>\n",
       "      <td>28.5</td>\n",
       "      <td>221.7792</td>\n",
       "      <td>1</td>\n",
       "      <td>0.0</td>\n",
       "      <td>1.0</td>\n",
       "      <td>1.0</td>\n",
       "      <td>0.0</td>\n",
       "      <td>0.0</td>\n",
       "    </tr>\n",
       "    <tr>\n",
       "      <th>3</th>\n",
       "      <td>18.0</td>\n",
       "      <td>9.3500</td>\n",
       "      <td>0</td>\n",
       "      <td>0.0</td>\n",
       "      <td>1.0</td>\n",
       "      <td>0.0</td>\n",
       "      <td>0.0</td>\n",
       "      <td>1.0</td>\n",
       "    </tr>\n",
       "    <tr>\n",
       "      <th>4</th>\n",
       "      <td>31.0</td>\n",
       "      <td>26.2500</td>\n",
       "      <td>0</td>\n",
       "      <td>0.0</td>\n",
       "      <td>1.0</td>\n",
       "      <td>0.0</td>\n",
       "      <td>1.0</td>\n",
       "      <td>0.0</td>\n",
       "    </tr>\n",
       "    <tr>\n",
       "      <th>...</th>\n",
       "      <td>...</td>\n",
       "      <td>...</td>\n",
       "      <td>...</td>\n",
       "      <td>...</td>\n",
       "      <td>...</td>\n",
       "      <td>...</td>\n",
       "      <td>...</td>\n",
       "      <td>...</td>\n",
       "    </tr>\n",
       "    <tr>\n",
       "      <th>707</th>\n",
       "      <td>28.5</td>\n",
       "      <td>7.8792</td>\n",
       "      <td>0</td>\n",
       "      <td>1.0</td>\n",
       "      <td>0.0</td>\n",
       "      <td>0.0</td>\n",
       "      <td>0.0</td>\n",
       "      <td>1.0</td>\n",
       "    </tr>\n",
       "    <tr>\n",
       "      <th>708</th>\n",
       "      <td>35.0</td>\n",
       "      <td>512.3292</td>\n",
       "      <td>0</td>\n",
       "      <td>0.0</td>\n",
       "      <td>0.0</td>\n",
       "      <td>0.0</td>\n",
       "      <td>0.0</td>\n",
       "      <td>0.0</td>\n",
       "    </tr>\n",
       "    <tr>\n",
       "      <th>709</th>\n",
       "      <td>48.0</td>\n",
       "      <td>34.3750</td>\n",
       "      <td>0</td>\n",
       "      <td>0.0</td>\n",
       "      <td>1.0</td>\n",
       "      <td>0.0</td>\n",
       "      <td>0.0</td>\n",
       "      <td>1.0</td>\n",
       "    </tr>\n",
       "    <tr>\n",
       "      <th>710</th>\n",
       "      <td>47.0</td>\n",
       "      <td>38.5000</td>\n",
       "      <td>1</td>\n",
       "      <td>0.0</td>\n",
       "      <td>1.0</td>\n",
       "      <td>1.0</td>\n",
       "      <td>0.0</td>\n",
       "      <td>0.0</td>\n",
       "    </tr>\n",
       "    <tr>\n",
       "      <th>711</th>\n",
       "      <td>28.5</td>\n",
       "      <td>26.5500</td>\n",
       "      <td>0</td>\n",
       "      <td>0.0</td>\n",
       "      <td>1.0</td>\n",
       "      <td>1.0</td>\n",
       "      <td>0.0</td>\n",
       "      <td>0.0</td>\n",
       "    </tr>\n",
       "  </tbody>\n",
       "</table>\n",
       "<p>712 rows × 8 columns</p>\n",
       "</div>"
      ],
      "text/plain": [
       "      Age      Fare  Has_Cabin_Letter  Embarked_Q  Embarked_S  Sex_male  \\\n",
       "0    28.5   56.4958                 0         0.0         1.0       1.0   \n",
       "1    28.5    0.0000                 0         0.0         1.0       1.0   \n",
       "2    28.5  221.7792                 1         0.0         1.0       1.0   \n",
       "3    18.0    9.3500                 0         0.0         1.0       0.0   \n",
       "4    31.0   26.2500                 0         0.0         1.0       0.0   \n",
       "..    ...       ...               ...         ...         ...       ...   \n",
       "707  28.5    7.8792                 0         1.0         0.0       0.0   \n",
       "708  35.0  512.3292                 0         0.0         0.0       0.0   \n",
       "709  48.0   34.3750                 0         0.0         1.0       0.0   \n",
       "710  47.0   38.5000                 1         0.0         1.0       1.0   \n",
       "711  28.5   26.5500                 0         0.0         1.0       1.0   \n",
       "\n",
       "     Pclass_2  Pclass_3  \n",
       "0         0.0       1.0  \n",
       "1         1.0       0.0  \n",
       "2         0.0       0.0  \n",
       "3         0.0       1.0  \n",
       "4         1.0       0.0  \n",
       "..        ...       ...  \n",
       "707       0.0       1.0  \n",
       "708       0.0       0.0  \n",
       "709       0.0       1.0  \n",
       "710       0.0       0.0  \n",
       "711       0.0       0.0  \n",
       "\n",
       "[712 rows x 8 columns]"
      ]
     },
     "execution_count": 22,
     "metadata": {},
     "output_type": "execute_result"
    }
   ],
   "source": [
    "X_train"
   ]
  },
  {
   "cell_type": "markdown",
   "metadata": {},
   "source": [
    "## Auxiliary functions"
   ]
  },
  {
   "cell_type": "code",
   "execution_count": null,
   "metadata": {},
   "outputs": [],
   "source": [
    "def plot_balanced_accuracy_heatmap(y, y_pred):\n",
    "\n",
    "  print(f'Balanced accuracy:{balanced_accuracy_score(y, y_pred)}\\n')\n",
    "\n",
    "  plt.figure(figsize=(8,8))\n",
    "  sns.heatmap(\n",
    "      confusion_matrix(y, y_pred, normalize='true').round(2), \n",
    "      cmap='Blues', \n",
    "      annot=True\n",
    "  ).set(xlabel='Predicted', ylabel='Expected')\n",
    "  plt.show()"
   ]
  },
  {
   "cell_type": "markdown",
   "metadata": {},
   "source": [
    "## Baseline"
   ]
  },
  {
   "cell_type": "code",
   "execution_count": null,
   "metadata": {},
   "outputs": [],
   "source": [
    "dt_classifier = DecisionTreeClassifier(criterion = 'entropy', random_state = 42)\n",
    "dt_classifier.fit(X_train, y_train)\n",
    "\n",
    "baseline_train_pred = dt_classifier.predict(X_train)\n",
    "baseline_val_pred = dt_classifier.predict(X_val)"
   ]
  },
  {
   "cell_type": "code",
   "execution_count": null,
   "metadata": {},
   "outputs": [
    {
     "name": "stdout",
     "output_type": "stream",
     "text": [
      "Balanced accuracy:0.7868906455862978\n",
      "\n"
     ]
    },
    {
     "data": {
      "image/png": "[encoded data removed]",
      "text/plain": [
       "<Figure size 576x576 with 2 Axes>"
      ]
     },
     "metadata": {
      "needs_background": "light"
     },
     "output_type": "display_data"
    }
   ],
   "source": [
    "plot_balanced_accuracy_heatmap(y_val, baseline_val_pred)"
   ]
  },
  {
   "cell_type": "markdown",
   "metadata": {},
   "source": [
    "## SVM & Grid Search"
   ]
  },
  {
   "cell_type": "code",
   "execution_count": null,
   "metadata": {},
   "outputs": [],
   "source": [
    "scaler = StandardScaler()\n",
    "scaler.fit(X_train)\n",
    "\n",
    "X_train_scaled = scaler.transform(X_train)\n",
    "X_val_scaled = scaler.transform(X_val)"
   ]
  },
  {
   "cell_type": "code",
   "execution_count": null,
   "metadata": {},
   "outputs": [
    {
     "name": "stdout",
     "output_type": "stream",
     "text": [
      "param_grid: {'C': array([1.e-02, 1.e-01, 1.e+00, 1.e+01, 1.e+02]), 'kernel': ['linear', 'rbf', 'sigmoid']}\n"
     ]
    }
   ],
   "source": [
    "C_range = np.logspace(-2, 2, 5)\n",
    "kernels = ['linear', 'rbf', 'sigmoid']\n",
    "param_grid = dict(C=C_range, kernel=kernels)\n",
    "print('param_grid:', param_grid)\n"
   ]
  },
  {
   "cell_type": "code",
   "execution_count": null,
   "metadata": {},
   "outputs": [
    {
     "name": "stdout",
     "output_type": "stream",
     "text": [
      "Fitting 5 folds for each of 15 candidates, totalling 75 fits\n",
      "[CV 1/5] END ..........................C=0.01, kernel=linear; total time=   0.0s\n",
      "[CV 2/5] END ..........................C=0.01, kernel=linear; total time=   0.0s\n",
      "[CV 3/5] END ..........................C=0.01, kernel=linear; total time=   0.0s\n",
      "[CV 4/5] END ..........................C=0.01, kernel=linear; total time=   0.0s\n",
      "[CV 5/5] END ..........................C=0.01, kernel=linear; total time=   0.0s\n",
      "[CV 1/5] END .............................C=0.01, kernel=rbf; total time=   0.0s\n",
      "[CV 2/5] END .............................C=0.01, kernel=rbf; total time=   0.0s\n",
      "[CV 3/5] END .............................C=0.01, kernel=rbf; total time=   0.0s\n",
      "[CV 4/5] END .............................C=0.01, kernel=rbf; total time=   0.0s\n",
      "[CV 5/5] END .............................C=0.01, kernel=rbf; total time=   0.0s\n",
      "[CV 1/5] END .........................C=0.01, kernel=sigmoid; total time=   0.0s\n",
      "[CV 2/5] END .........................C=0.01, kernel=sigmoid; total time=   0.0s\n",
      "[CV 3/5] END .........................C=0.01, kernel=sigmoid; total time=   0.0s\n",
      "[CV 4/5] END .........................C=0.01, kernel=sigmoid; total time=   0.0s\n",
      "[CV 5/5] END .........................C=0.01, kernel=sigmoid; total time=   0.0s\n",
      "[CV 1/5] END ...........................C=0.1, kernel=linear; total time=   0.0s\n",
      "[CV 2/5] END ...........................C=0.1, kernel=linear; total time=   0.0s\n",
      "[CV 3/5] END ...........................C=0.1, kernel=linear; total time=   0.0s\n",
      "[CV 4/5] END ...........................C=0.1, kernel=linear; total time=   0.0s\n",
      "[CV 5/5] END ...........................C=0.1, kernel=linear; total time=   0.0s\n",
      "[CV 1/5] END ..............................C=0.1, kernel=rbf; total time=   0.0s\n",
      "[CV 2/5] END ..............................C=0.1, kernel=rbf; total time=   0.0s\n",
      "[CV 3/5] END ..............................C=0.1, kernel=rbf; total time=   0.0s\n",
      "[CV 4/5] END ..............................C=0.1, kernel=rbf; total time=   0.0s\n",
      "[CV 5/5] END ..............................C=0.1, kernel=rbf; total time=   0.0s\n",
      "[CV 1/5] END ..........................C=0.1, kernel=sigmoid; total time=   0.0s\n",
      "[CV 2/5] END ..........................C=0.1, kernel=sigmoid; total time=   0.0s\n",
      "[CV 3/5] END ..........................C=0.1, kernel=sigmoid; total time=   0.0s\n",
      "[CV 4/5] END ..........................C=0.1, kernel=sigmoid; total time=   0.0s\n",
      "[CV 5/5] END ..........................C=0.1, kernel=sigmoid; total time=   0.0s\n",
      "[CV 1/5] END ...........................C=1.0, kernel=linear; total time=   0.0s\n",
      "[CV 2/5] END ...........................C=1.0, kernel=linear; total time=   0.0s\n",
      "[CV 3/5] END ...........................C=1.0, kernel=linear; total time=   0.0s\n",
      "[CV 4/5] END ...........................C=1.0, kernel=linear; total time=   0.0s\n",
      "[CV 5/5] END ...........................C=1.0, kernel=linear; total time=   0.0s\n",
      "[CV 1/5] END ..............................C=1.0, kernel=rbf; total time=   0.0s\n",
      "[CV 2/5] END ..............................C=1.0, kernel=rbf; total time=   0.0s\n",
      "[CV 3/5] END ..............................C=1.0, kernel=rbf; total time=   0.0s\n",
      "[CV 4/5] END ..............................C=1.0, kernel=rbf; total time=   0.0s\n",
      "[CV 5/5] END ..............................C=1.0, kernel=rbf; total time=   0.0s\n",
      "[CV 1/5] END ..........................C=1.0, kernel=sigmoid; total time=   0.0s\n",
      "[CV 2/5] END ..........................C=1.0, kernel=sigmoid; total time=   0.0s\n",
      "[CV 3/5] END ..........................C=1.0, kernel=sigmoid; total time=   0.0s\n",
      "[CV 4/5] END ..........................C=1.0, kernel=sigmoid; total time=   0.0s\n",
      "[CV 5/5] END ..........................C=1.0, kernel=sigmoid; total time=   0.0s\n",
      "[CV 1/5] END ..........................C=10.0, kernel=linear; total time=   0.0s\n",
      "[CV 2/5] END ..........................C=10.0, kernel=linear; total time=   0.0s\n",
      "[CV 3/5] END ..........................C=10.0, kernel=linear; total time=   0.0s\n",
      "[CV 4/5] END ..........................C=10.0, kernel=linear; total time=   0.0s\n",
      "[CV 5/5] END ..........................C=10.0, kernel=linear; total time=   0.0s\n",
      "[CV 1/5] END .............................C=10.0, kernel=rbf; total time=   0.0s\n",
      "[CV 2/5] END .............................C=10.0, kernel=rbf; total time=   0.0s\n",
      "[CV 3/5] END .............................C=10.0, kernel=rbf; total time=   0.0s\n",
      "[CV 4/5] END .............................C=10.0, kernel=rbf; total time=   0.0s\n",
      "[CV 5/5] END .............................C=10.0, kernel=rbf; total time=   0.0s\n",
      "[CV 1/5] END .........................C=10.0, kernel=sigmoid; total time=   0.0s\n",
      "[CV 2/5] END .........................C=10.0, kernel=sigmoid; total time=   0.0s\n",
      "[CV 3/5] END .........................C=10.0, kernel=sigmoid; total time=   0.0s\n",
      "[CV 4/5] END .........................C=10.0, kernel=sigmoid; total time=   0.0s\n",
      "[CV 5/5] END .........................C=10.0, kernel=sigmoid; total time=   0.0s\n",
      "[CV 1/5] END .........................C=100.0, kernel=linear; total time=   0.0s\n",
      "[CV 2/5] END .........................C=100.0, kernel=linear; total time=   0.3s\n",
      "[CV 3/5] END .........................C=100.0, kernel=linear; total time=   1.5s\n",
      "[CV 4/5] END .........................C=100.0, kernel=linear; total time=   0.3s\n",
      "[CV 5/5] END .........................C=100.0, kernel=linear; total time=   0.8s\n",
      "[CV 1/5] END ............................C=100.0, kernel=rbf; total time=   0.0s\n",
      "[CV 2/5] END ............................C=100.0, kernel=rbf; total time=   0.0s\n",
      "[CV 3/5] END ............................C=100.0, kernel=rbf; total time=   0.0s\n",
      "[CV 4/5] END ............................C=100.0, kernel=rbf; total time=   0.0s\n",
      "[CV 5/5] END ............................C=100.0, kernel=rbf; total time=   0.0s\n",
      "[CV 1/5] END ........................C=100.0, kernel=sigmoid; total time=   0.0s\n",
      "[CV 2/5] END ........................C=100.0, kernel=sigmoid; total time=   0.0s\n",
      "[CV 3/5] END ........................C=100.0, kernel=sigmoid; total time=   0.0s\n",
      "[CV 4/5] END ........................C=100.0, kernel=sigmoid; total time=   0.0s\n",
      "[CV 5/5] END ........................C=100.0, kernel=sigmoid; total time=   0.0s\n"
     ]
    },
    {
     "data": {
      "text/plain": [
       "GridSearchCV(cv=5, estimator=SVC(random_state=42),\n",
       "             param_grid={'C': array([1.e-02, 1.e-01, 1.e+00, 1.e+01, 1.e+02]),\n",
       "                         'kernel': ['linear', 'rbf', 'sigmoid']},\n",
       "             scoring=make_scorer(balanced_accuracy_score), verbose=3)"
      ]
     },
     "execution_count": 28,
     "metadata": {},
     "output_type": "execute_result"
    }
   ],
   "source": [
    "\n",
    "svc_model = SVC(random_state = 42)\n",
    "bas = make_scorer(balanced_accuracy_score, greater_is_better=True)\n",
    "grid = GridSearchCV(svc_model, param_grid, cv=5, scoring=bas,verbose=3)\n",
    "grid.fit(X_train_scaled, y_train)"
   ]
  },
  {
   "cell_type": "code",
   "execution_count": null,
   "metadata": {},
   "outputs": [
    {
     "name": "stdout",
     "output_type": "stream",
     "text": [
      "0.7909169278996865\n",
      "{'C': 10.0, 'kernel': 'rbf'}\n",
      "SVC(C=10.0, random_state=42)\n"
     ]
    }
   ],
   "source": [
    "print(grid.best_score_)\n",
    "print(grid.best_params_)\n",
    "print(grid.best_estimator_)\n"
   ]
  },
  {
   "cell_type": "code",
   "execution_count": null,
   "metadata": {},
   "outputs": [],
   "source": [
    "\n",
    "best_svc = grid.best_estimator_\n",
    "y_pred_train = best_svc.predict(X_train_scaled)\n",
    "y_pred_val = best_svc.predict(X_val_scaled)"
   ]
  },
  {
   "cell_type": "code",
   "execution_count": null,
   "metadata": {},
   "outputs": [
    {
     "name": "stdout",
     "output_type": "stream",
     "text": [
      "Balanced accuracy:0.8172336395571019\n",
      "\n"
     ]
    },
    {
     "data": {
      "image/png": "[encoded data removed]",
      "text/plain": [
       "<Figure size 576x576 with 2 Axes>"
      ]
     },
     "metadata": {
      "needs_background": "light"
     },
     "output_type": "display_data"
    }
   ],
   "source": [
    "plot_balanced_accuracy_heatmap(y_train, y_pred_train)"
   ]
  },
  {
   "cell_type": "code",
   "execution_count": null,
   "metadata": {},
   "outputs": [],
   "source": [
    "rt_classificer = RandomForestClassifier()\n",
    "rt_classificer.fit(X_train, y_train)\n",
    "\n",
    "train_pred = rt_classificer.predict(X_train)\n",
    "val_pred = rt_classificer.predict(X_val)\n",
    "\n"
   ]
  },
  {
   "cell_type": "code",
   "execution_count": null,
   "metadata": {},
   "outputs": [
    {
     "data": {
      "text/plain": [
       "0.7986824769433465"
      ]
     },
     "execution_count": 308,
     "metadata": {},
     "output_type": "execute_result"
    }
   ],
   "source": [
    "balanced_accuracy_score(y_val, val_pred)"
   ]
  },
  {
   "cell_type": "code",
   "execution_count": null,
   "metadata": {},
   "outputs": [],
   "source": [
    "#output = test_set.copy()\n",
    "#output['Survived'] = pred\n",
    "#output = output[['PassengerId', 'Survived']]"
   ]
  },
  {
   "cell_type": "code",
   "execution_count": null,
   "metadata": {},
   "outputs": [],
   "source": [
    "#output.to_csv('my_submission.csv', index=False)"
   ]
  },
  {
   "cell_type": "code",
   "execution_count": null,
   "metadata": {},
   "outputs": [],
   "source": []
  }
 ],
 "metadata": {
  "interpreter": {
   "hash": "c94be41889154d41bf43aca8d1a8d1cd64b97c119170e03e2ed46ca87183f0c5"
  },
  "kernelspec": {
   "display_name": "Python 3.8.8 64-bit ('base': conda)",
   "name": "python3"
  },
  "language_info": {
   "codemirror_mode": {
    "name": "ipython",
    "version": 3
   },
   "file_extension": ".py",
   "mimetype": "text/x-python",
   "name": "python",
   "nbconvert_exporter": "python",
   "pygments_lexer": "ipython3",
   "version": "3.8.8"
  },
  "orig_nbformat": 4
 },
 "nbformat": 4,
 "nbformat_minor": 2
}
